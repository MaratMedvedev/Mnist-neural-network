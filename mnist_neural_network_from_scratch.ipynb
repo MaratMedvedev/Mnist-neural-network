{
 "cells": [
  {
   "cell_type": "markdown",
   "metadata": {
    "id": "2bOZmiDuoaVe"
   },
   "source": []
  },
  {
   "cell_type": "markdown",
   "metadata": {
    "id": "ailumaHIVXom"
   },
   "source": [
    "### Data preparation\n"
   ]
  },
  {
   "cell_type": "code",
   "execution_count": 11,
   "metadata": {
    "id": "jCAId0DTVwdL"
   },
   "outputs": [],
   "source": [
    "import numpy as np\n",
    "import tensorflow as tf\n",
    "from tensorflow.keras.datasets import mnist\n",
    "from matplotlib import pyplot as plt\n",
    "\n",
    "(X_train, y_train), (X_test, y_test) = mnist.load_data()"
   ]
  },
  {
   "cell_type": "code",
   "execution_count": 12,
   "metadata": {
    "colab": {
     "base_uri": "https://localhost:8080/",
     "height": 466
    },
    "id": "tiTiqMoqV0AL",
    "outputId": "af6c5756-0847-4bd1-ba11-4ebb51b823ef"
   },
   "outputs": [
    {
     "output_type": "stream",
     "name": "stdout",
     "text": [
      "5 (60000, 28, 28)\n"
     ]
    },
    {
     "output_type": "execute_result",
     "data": {
      "text/plain": [
       "<matplotlib.image.AxesImage at 0x7e263a6eb9a0>"
      ]
     },
     "metadata": {},
     "execution_count": 12
    },
    {
     "output_type": "display_data",
     "data": {
      "text/plain": [
       "<Figure size 640x480 with 1 Axes>"
      ],
      "image/png": "[encoded data removed]"
     },
     "metadata": {}
    }
   ],
   "source": [
    "print(y_train[0], X_train.shape)\n",
    "plt.imshow(X_train[0])"
   ]
  },
  {
   "cell_type": "code",
   "execution_count": 13,
   "metadata": {
    "colab": {
     "base_uri": "https://localhost:8080/",
     "height": 466
    },
    "id": "aFouCcxJV4N5",
    "outputId": "3301614c-f441-4cf4-eeb6-f1fc707c4111"
   },
   "outputs": [
    {
     "output_type": "stream",
     "name": "stdout",
     "text": [
      "7 (10000, 28, 28)\n"
     ]
    },
    {
     "output_type": "execute_result",
     "data": {
      "text/plain": [
       "<matplotlib.image.AxesImage at 0x7e263a548f10>"
      ]
     },
     "metadata": {},
     "execution_count": 13
    },
    {
     "output_type": "display_data",
     "data": {
      "text/plain": [
       "<Figure size 640x480 with 1 Axes>"
      ],
      "image/png": "[encoded data removed]"
     },
     "metadata": {}
    }
   ],
   "source": [
    "print(y_test[0], X_test.shape)\n",
    "plt.imshow(X_test[0])"
   ]
  },
  {
   "cell_type": "code",
   "execution_count": 14,
   "metadata": {
    "colab": {
     "base_uri": "https://localhost:8080/"
    },
    "id": "8uhFce37V85C",
    "outputId": "dbfb4de1-ebee-41c6-c8be-d572081f9220"
   },
   "outputs": [
    {
     "output_type": "stream",
     "name": "stdout",
     "text": [
      "y_test: [7 2 1 ... 4 5 6]\n"
     ]
    },
    {
     "output_type": "execute_result",
     "data": {
      "text/plain": [
       "array([[[0.],\n",
       "        [0.],\n",
       "        [0.],\n",
       "        ...,\n",
       "        [0.],\n",
       "        [0.],\n",
       "        [0.]],\n",
       "\n",
       "       [[0.],\n",
       "        [0.],\n",
       "        [0.],\n",
       "        ...,\n",
       "        [0.],\n",
       "        [0.],\n",
       "        [0.]],\n",
       "\n",
       "       [[0.],\n",
       "        [0.],\n",
       "        [0.],\n",
       "        ...,\n",
       "        [0.],\n",
       "        [0.],\n",
       "        [0.]],\n",
       "\n",
       "       ...,\n",
       "\n",
       "       [[0.],\n",
       "        [0.],\n",
       "        [0.],\n",
       "        ...,\n",
       "        [0.],\n",
       "        [0.],\n",
       "        [0.]],\n",
       "\n",
       "       [[0.],\n",
       "        [0.],\n",
       "        [0.],\n",
       "        ...,\n",
       "        [0.],\n",
       "        [0.],\n",
       "        [0.]],\n",
       "\n",
       "       [[0.],\n",
       "        [0.],\n",
       "        [0.],\n",
       "        ...,\n",
       "        [0.],\n",
       "        [0.],\n",
       "        [0.]]])"
      ]
     },
     "metadata": {},
     "execution_count": 14
    }
   ],
   "source": [
    "y_test = y_test.reshape(1, -1)[0]\n",
    "print(\"y_test:\", y_test)\n",
    "X_train = X_train.reshape(X_train.shape[0], -1, 1)\n",
    "X_test = X_test.reshape(X_test.shape[0], -1, 1)\n",
    "X_train= X_train.astype('float64')\n",
    "X_train/=255\n",
    "X_test= X_test.astype('float64')\n",
    "X_test/=255\n",
    "X_train"
   ]
  },
  {
   "cell_type": "markdown",
   "source": [
    "### Data reduction"
   ],
   "metadata": {
    "id": "LxSVP_by6U2M"
   }
  },
  {
   "cell_type": "code",
   "source": [
    "# I will leave only two classes zeroes and ones\n",
    "train_idxs = np.logical_or(y_train == 1, y_train == 0)\n",
    "X_train = X_train[train_idxs]\n",
    "y_train = y_train[train_idxs]\n",
    "test_idxs = np.logical_or(y_test == 1, y_test == 0)\n",
    "X_test = X_test[test_idxs]\n",
    "y_test = y_test[test_idxs]"
   ],
   "metadata": {
    "id": "6teluNUH6UUw"
   },
   "execution_count": 32,
   "outputs": []
  },
  {
   "cell_type": "markdown",
   "metadata": {
    "id": "lB-fuXCXSUGN"
   },
   "source": [
    "### Algorithm\n"
   ]
  },
  {
   "cell_type": "code",
   "execution_count": 33,
   "metadata": {
    "id": "7L1dEBWcpBmE"
   },
   "outputs": [],
   "source": [
    "import numpy as np"
   ]
  },
  {
   "cell_type": "code",
   "execution_count": 34,
   "metadata": {
    "id": "VsX-6hmJn3Yr"
   },
   "outputs": [],
   "source": [
    "def softmax_forward(X):\n",
    "    \"\"\"\n",
    "    Compute the softmax activation for a given input vector X.\n",
    "    X: Input vector (numpy array)\n",
    "    softmax_result: Softmax activation result (numpy array)\n",
    "    \"\"\"\n",
    "    exp_X = np.exp(X)\n",
    "    softmax_result = exp_X / np.sum(exp_X)\n",
    "    return softmax_result\n",
    "\n",
    "def softmax_backward(Y, dL_dY):\n",
    "    \"\"\"\n",
    "    Compute the gradient of the loss with respect to the input X using softmax.\n",
    "    Y: softmax passed logits (numpy array)\n",
    "    dL_dY: Gradient of the loss with respect to the output Y (numpy array)\n",
    "    Returns dL_dX: Gradient of the loss with respect to the input X (numpy array)\n",
    "    \"\"\"\n",
    "    N = len(Y)\n",
    "    dZ_dX = np.empty([N, N])\n",
    "\n",
    "    # Compute the diagonal and off-diagonal elements of the dZ_dX matrix\n",
    "    for i in range(N):\n",
    "        for j in range(i, N):\n",
    "            # I obtain the following equalities when I manually calculate derivatives.\n",
    "            if i != j:\n",
    "                dZ_dX[i][j] = -Y[i] * Y[j]\n",
    "                dZ_dX[j][i] = dZ_dX[i][j] # Because matrix is symmetric\n",
    "            else:\n",
    "                dZ_dX[i][i] = Y[i] * (1 - Y[i])\n",
    "\n",
    "    # Apply chain rule\n",
    "    dL_dX = np.matmul(dZ_dX, dL_dY)\n",
    "    return dL_dX"
   ]
  },
  {
   "cell_type": "code",
   "execution_count": 35,
   "metadata": {
    "id": "Tc0tr0j6on7v"
   },
   "outputs": [],
   "source": [
    "def ReLU_forward(inputs):\n",
    "  \"\"\"\n",
    "  inputs: Input vector (numpy array)\n",
    "  \"\"\"\n",
    "  inputs[inputs < 0] = 0\n",
    "  return inputs\n",
    "\n",
    "def ReLU_backward(inputs, dL_dZ):\n",
    "  \"\"\"\n",
    "  inputs: Input vector (numpy array)\n",
    "  dL_dZ: Gradient of the loss with respect to the output Z (numpy array)\n",
    "  \"\"\"\n",
    "  dL_dZ[inputs < 0] = 0\n",
    "  return dL_dZ"
   ]
  },
  {
   "cell_type": "code",
   "execution_count": 36,
   "metadata": {
    "id": "baT3WfeOooNY"
   },
   "outputs": [],
   "source": [
    "def mtx_mult_backward(W, X, dL_dZ, with_respect_to_first=True):\n",
    "  \"\"\"\n",
    "  W: Weights (numpy array with shape: (nxk))\n",
    "  X: Input vector (numpy array with shape: (kxm))\n",
    "  dL_dZ: Gradient of the loss with respect to the output Z = W * X (numpy array with shape: (nxm))\n",
    "  with_respect_to_first: Indicate what derivatives should calculate. if true then function return dL_dW, else return dL_dX\n",
    "  Returns dL_dW: Gradient of the loss with respect to the weights W (numpy array with shape: (nxk))\n",
    "  \"\"\"\n",
    "  if with_respect_to_first:\n",
    "    dL_dW = np.empty(W.shape)\n",
    "    n, k = W.shape\n",
    "    for i in range(n):\n",
    "      for j in range(k):\n",
    "        dL_dW[i][j] = np.dot(dL_dZ[i], X[j]) # It's equality we can easily get if we multiply correct all corresponding derivatives\n",
    "    return dL_dW\n",
    "  else:\n",
    "    dL_dX = np.empty(X.shape)\n",
    "    n, k = X.shape\n",
    "    for i in range(n):\n",
    "      for j in range(k):\n",
    "        dL_dX[i][j] = np.dot(dL_dZ[:, j], W[:, i]) # It's equality we can easily get if we multiply correct all corresponding derivatives\n",
    "    return dL_dX\n"
   ]
  },
  {
   "cell_type": "markdown",
   "metadata": {
    "id": "gd7k_o2wSZVi"
   },
   "source": [
    "### 1)\n",
    "Just neural network with single linear layer(without biases) and softmax layer"
   ]
  },
  {
   "cell_type": "code",
   "execution_count": 37,
   "metadata": {
    "id": "hUGGy1nFSYks"
   },
   "outputs": [],
   "source": [
    "def iteration(W, Xs, ys, learning_rate=0.01):\n",
    "  dL_dW = np.zeros(W.shape) # gradient vector\n",
    "  losses_sum = 0\n",
    "  for i in range(len(Xs)):\n",
    "    X = Xs[i]\n",
    "    y = ys[i]\n",
    "    Wx = np.matmul(W, X)\n",
    "    softmax_Wx = softmax_forward(Wx)\n",
    "    loss = np.log(softmax_Wx[y])\n",
    "    losses_sum += loss # Needed to calculate mean loss for train dataset\n",
    "    loss_backward = np.zeros(Wx.shape)\n",
    "    loss_backward[y] = 1/softmax_Wx[y]\n",
    "    sm_backward = softmax_backward(softmax_Wx, loss_backward)\n",
    "    dL_dW += mtx_mult_backward(W, X, sm_backward)\n",
    "  dL_dW /= len(Xs) # Calculate mean gradient vector\n",
    "  W += dL_dW * learning_rate # Take a gradient step\n",
    "  return losses_sum / len(Xs) # mean loss\n",
    "\n",
    "def predict(W, Xs):\n",
    "  y_pred = np.empty(len(Xs))\n",
    "  for i in range(len(Xs)):\n",
    "    Wx = np.matmul(W, Xs[i])\n",
    "    softmax_Wx = softmax_forward(Wx)\n",
    "    y_pred[i] = np.argmax(softmax_Wx)\n",
    "  return y_pred"
   ]
  },
  {
   "cell_type": "code",
   "execution_count": 39,
   "metadata": {
    "colab": {
     "base_uri": "https://localhost:8080/"
    },
    "id": "jTz_6ZuXVM06",
    "outputId": "a2e7aefc-332b-4a4b-86f2-cd9eaa8bf583"
   },
   "outputs": [
    {
     "output_type": "stream",
     "name": "stdout",
     "text": [
      "Epoch: 0\n",
      "  Mean training loss: [-0.30974539], test accuracy: 0.9442080378250591\n",
      "Epoch: 1\n",
      "  Mean training loss: [-0.16305642], test accuracy: 0.9612293144208038\n",
      "Epoch: 2\n",
      "  Mean training loss: [-0.12836488], test accuracy: 0.968321513002364\n",
      "Epoch: 3\n",
      "  Mean training loss: [-0.10934697], test accuracy: 0.9725768321513002\n",
      "Epoch: 4\n",
      "  Mean training loss: [-0.09688994], test accuracy: 0.9782505910165484\n"
     ]
    }
   ],
   "source": [
    "def training(X_train, y_train, X_test, y_test, learning_rate, eps):\n",
    "  num_labels = len(np.unique(y_test))\n",
    "  X_size = np.prod(X_train[0].shape)\n",
    "  w_size = (num_labels, X_size)\n",
    "  W = np.random.uniform(-1, 1, size=w_size)\n",
    "  W_last = np.full(w_size, 2.0)\n",
    "  epoch = 0\n",
    "  while not np.all(np.abs(W - W_last) < eps):\n",
    "    W_last = np.copy(W)\n",
    "    loss = iteration(W, X_train, y_train, learning_rate)\n",
    "    acc = np.sum(predict(W, X_test) == y_test) / len(y_test)\n",
    "    print(f\"Epoch: {epoch}\")\n",
    "    print(f\"  Mean training loss: {loss}, test accuracy: {acc}\")\n",
    "    epoch += 1\n",
    "  return W\n",
    "learning_rate = 0.5\n",
    "eps = 0.01 # Needed to stop training when all parameters change less than eps\n",
    "W=training(X_train, y_train, X_test, y_test, learning_rate, eps)"
   ]
  },
  {
   "cell_type": "markdown",
   "metadata": {
    "id": "ADGjv3fHSa_u"
   },
   "source": [
    "### 2)\n",
    "This neural network has the following structure:\n",
    "Linear layer(with biases), ReLU layer, Linear layer(with biases), Softmax layer"
   ]
  },
  {
   "cell_type": "code",
   "source": [
    "def predict2(W1, b1, W2, b2, Xs):\n",
    "  y_pred = np.empty(len(Xs))\n",
    "  for i in range(len(Xs)):\n",
    "    # Layer 1\n",
    "    x1 = np.matmul(W1, Xs[i])\n",
    "    x2 = x1 + b1\n",
    "    x3 = ReLU_forward(x2)\n",
    "    # Layer 2\n",
    "    x4 = np.matmul(W2, x3)\n",
    "    x5 = x4+b2\n",
    "    # Output layer\n",
    "    softmax_x5 = softmax_forward(x5)\n",
    "    y_pred[i] = np.argmax(softmax_x5)\n",
    "  return y_pred"
   ],
   "metadata": {
    "id": "-3Z5uJj-KjVc"
   },
   "execution_count": 22,
   "outputs": []
  },
  {
   "cell_type": "code",
   "execution_count": 46,
   "metadata": {
    "id": "nzkl0CZoSbMI"
   },
   "outputs": [],
   "source": [
    "def iteration2(W1, b1, W2, b2, Xs, ys, learning_rate=0.01):\n",
    "  dL_dW1 = np.zeros(W1.shape) # gradient vector\n",
    "  dL_dB1 = np.zeros(b1.shape) # gradient vector\n",
    "  dL_dW2 = np.zeros(W2.shape) # gradient vector\n",
    "  dL_dB2 = np.zeros(b2.shape) # gradient vector\n",
    "  losses_sum = 0\n",
    "  for i in range(len(Xs)):\n",
    "    X = Xs[i]\n",
    "    y = ys[i]\n",
    "    # Forwarding\n",
    "    # Layer 1\n",
    "    x1 = np.matmul(W1, Xs[i])\n",
    "    x2 = x1 + b1\n",
    "    x3 = ReLU_forward(x2)\n",
    "    # Layer 2\n",
    "    x4 = np.matmul(W2, x3)\n",
    "    x5 = x4 + b2\n",
    "    # Output layer\n",
    "    softmax_x5 = softmax_forward(x5)\n",
    "    loss = np.log(softmax_x5[y][0])\n",
    "\n",
    "    losses_sum += loss # Needed to calculate mean loss for train dataset\n",
    "\n",
    "    # Back propagation\n",
    "    # Output layer back propagation\n",
    "    loss_backward = np.zeros(softmax_x5.shape)\n",
    "    loss_backward[y][0] = 1/softmax_x5[y][0]\n",
    "    sm_backward = softmax_backward(softmax_x5, loss_backward)\n",
    "    # Layer 2 back propagation\n",
    "    dL_dB2 += sm_backward\n",
    "    b2_backward = sm_backward\n",
    "    dL_dW2 += mtx_mult_backward(W2, x3, b2_backward)\n",
    "    w2_backward = mtx_mult_backward(W2, x3, b2_backward, with_respect_to_first=False) # dL_dx3\n",
    "    # Layer 1 back propagation\n",
    "    relu_backward = ReLU_backward(x2, w2_backward)\n",
    "    dL_dB1 += relu_backward\n",
    "    b1_backward = relu_backward\n",
    "    dL_dW1 += mtx_mult_backward(W1, Xs[i], b1_backward)\n",
    "\n",
    "  dL_dW1 /= len(Xs)\n",
    "  dL_dB1 /= len(Xs)\n",
    "  dL_dW2 /= len(Xs)\n",
    "  dL_dB2 /= len(Xs)\n",
    "  W1 += dL_dW1 * learning_rate # Take a gradient step\n",
    "  b1 += dL_dB1 * learning_rate # Take a gradient step\n",
    "  W2 += dL_dW2 * learning_rate # Take a gradient step\n",
    "  b2 += dL_dB2 * learning_rate # Take a gradient step\n",
    "  return losses_sum / len(Xs) # mean loss\n",
    "\n",
    "def training2(X_train, y_train, X_test, y_test, learning_rate, eps):\n",
    "  num_labels = len(np.unique(y_test))\n",
    "  X_size = np.prod(X_train[0].shape)\n",
    "  # Random initialization\n",
    "  W1 = np.random.uniform(-1, 1, size=(num_labels, X_size))\n",
    "  b1 = np.random.uniform(-1, 1, size=(num_labels, 1))\n",
    "  W2 = np.random.uniform(-1, 1, size=(num_labels, num_labels))\n",
    "  b2 = np.random.uniform(-1, 1, size=(num_labels, 1))\n",
    "  # To save parameters from previous iteration\n",
    "  W1_last = np.full(W1.shape, 2.0)\n",
    "  b1_last = np.full(b1.shape, 2.0)\n",
    "  W2_last = np.full(W2.shape, 2.0)\n",
    "  b2_last = np.full(b2.shape, 2.0)\n",
    "  epoch = 0 # Just for printing logs\n",
    "  while not (np.all(np.abs(W1 - W1_last) < eps) and np.all(np.abs(b1 - b1_last) < eps) and np.all(np.abs(W2 - W2_last) < eps) and np.all(np.abs(b2 - b2_last) < eps)):\n",
    "    W1_last = np.copy(W1)\n",
    "    b1_last = np.copy(b1)\n",
    "    W2_last = np.copy(W2)\n",
    "    b2_last = np.copy(b2)\n",
    "    loss = iteration2(W1, b1, W2, b2, X_train, y_train, learning_rate)\n",
    "    acc = np.sum(predict2(W1, b1, W2, b2, X_test) == y_test) / len(y_test)\n",
    "    print(f\"Epoch: {epoch}\")\n",
    "    epoch+=1\n",
    "    print(f\"  Mean training loss: {loss}, test accuracy: {acc}\")\n",
    "  return [W1, b1, W2, b2]"
   ]
  },
  {
   "cell_type": "code",
   "source": [
    "learning_rate = 0.2\n",
    "eps = 0.01\n",
    "W1, b1, W2, b2 = training2(X_train, y_train, X_test, y_test, learning_rate, eps)"
   ],
   "metadata": {
    "colab": {
     "base_uri": "https://localhost:8080/"
    },
    "id": "FWEFXIeY0io1",
    "outputId": "2e0e3e2e-8fbe-4906-fa8c-a19b609fa31b"
   },
   "execution_count": 48,
   "outputs": [
    {
     "output_type": "stream",
     "name": "stdout",
     "text": [
      "Epoch: 0\n",
      "  Mean training loss: -2.270174241600115, test accuracy: 0.6364066193853428\n",
      "Epoch: 1\n",
      "  Mean training loss: -0.8156051694308727, test accuracy: 0.7508274231678487\n",
      "Epoch: 2\n",
      "  Mean training loss: -0.6305905139596325, test accuracy: 0.8217494089834515\n",
      "Epoch: 3\n",
      "  Mean training loss: -0.5327156080627411, test accuracy: 0.8600472813238771\n",
      "Epoch: 4\n",
      "  Mean training loss: -0.46892256842540003, test accuracy: 0.8888888888888888\n",
      "Epoch: 5\n",
      "  Mean training loss: -0.4201789756976428, test accuracy: 0.9125295508274232\n",
      "Epoch: 6\n",
      "  Mean training loss: -0.3802725584687277, test accuracy: 0.9271867612293144\n",
      "Epoch: 7\n",
      "  Mean training loss: -0.34670243483249036, test accuracy: 0.9390070921985816\n",
      "Epoch: 8\n",
      "  Mean training loss: -0.31822913219533, test accuracy: 0.9465721040189126\n",
      "Epoch: 9\n",
      "  Mean training loss: -0.29419076212077055, test accuracy: 0.9574468085106383\n",
      "Epoch: 10\n",
      "  Mean training loss: -0.2735385169169129, test accuracy: 0.9602836879432625\n",
      "Epoch: 11\n",
      "  Mean training loss: -0.2556396008545113, test accuracy: 0.9645390070921985\n",
      "Epoch: 12\n",
      "  Mean training loss: -0.2397903138639492, test accuracy: 0.9645390070921985\n",
      "Epoch: 13\n",
      "  Mean training loss: -0.22550187055527746, test accuracy: 0.966903073286052\n",
      "Epoch: 14\n",
      "  Mean training loss: -0.2123903224318401, test accuracy: 0.9678486997635933\n",
      "Epoch: 15\n",
      "  Mean training loss: -0.2002253206964509, test accuracy: 0.9697399527186761\n",
      "Epoch: 16\n",
      "  Mean training loss: -0.18891520780043458, test accuracy: 0.9716312056737588\n",
      "Epoch: 17\n",
      "  Mean training loss: -0.17836239442651933, test accuracy: 0.9749408983451536\n",
      "Epoch: 19\n",
      "  Mean training loss: -0.15935100499006458, test accuracy: 0.9787234042553191\n",
      "Epoch: 20\n",
      "  Mean training loss: -0.15084298948786867, test accuracy: 0.9791962174940898\n",
      "Epoch: 21\n",
      "  Mean training loss: -0.14295529064006512, test accuracy: 0.9796690307328605\n",
      "Epoch: 22\n",
      "  Mean training loss: -0.13565156472292375, test accuracy: 0.9796690307328605\n",
      "Epoch: 23\n",
      "  Mean training loss: -0.12889132374191628, test accuracy: 0.9801418439716312\n",
      "Epoch: 24\n",
      "  Mean training loss: -0.12267758744590815, test accuracy: 0.9806146572104019\n",
      "Epoch: 25\n",
      "  Mean training loss: -0.11692851696967121, test accuracy: 0.9815602836879432\n",
      "Epoch: 26\n",
      "  Mean training loss: -0.11160289666875334, test accuracy: 0.9815602836879432\n",
      "Epoch: 27\n",
      "  Mean training loss: -0.10666158457788662, test accuracy: 0.9829787234042553\n",
      "Epoch: 28\n",
      "  Mean training loss: -0.10211768458169353, test accuracy: 0.983451536643026\n",
      "Epoch: 29\n",
      "  Mean training loss: -0.09794866011968575, test accuracy: 0.984869976359338\n",
      "Epoch: 30\n",
      "  Mean training loss: -0.09408470425427971, test accuracy: 0.9853427895981087\n"
     ]
    }
   ]
  }
 ],
 "metadata": {
  "colab": {
   "provenance": []
  },
  "kernelspec": {
   "display_name": "Python 3",
   "name": "python3"
  },
  "language_info": {
   "name": "python"
  }
 },
 "nbformat": 4,
 "nbformat_minor": 0
}
